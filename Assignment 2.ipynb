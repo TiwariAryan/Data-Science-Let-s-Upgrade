{
 "cells": [
  {
   "cell_type": "markdown",
   "metadata": {},
   "source": [
    "# Assignment 2\n",
    "# Aryan Tiwari"
   ]
  },
  {
   "cell_type": "code",
   "execution_count": 1,
   "metadata": {},
   "outputs": [
    {
     "name": "stdout",
     "output_type": "stream",
     "text": [
      "Enter a number: 2\n",
      "Enter a number: 3\n",
      "Enter a number: 4\n",
      "Enter a number: 5\n",
      "Enter a number: 5\n",
      "Enter a number: 6\n",
      "Enter a number: 7\n",
      "Enter a number: 8\n",
      "Enter a number: 8\n",
      "Enter a number: 9\n",
      "[2, 4, 6, 8, 8]\n"
     ]
    }
   ],
   "source": [
    "#Q1-Adding to empty list\n",
    "l=[]\n",
    "for i in range(10):\n",
    "    n=int(input(\"Enter a number: \"))\n",
    "    if n%2==0:\n",
    "        l.append(n)\n",
    "print(l)"
   ]
  },
  {
   "cell_type": "code",
   "execution_count": 3,
   "metadata": {},
   "outputs": [
    {
     "name": "stdout",
     "output_type": "stream",
     "text": [
      "[0, 1, 4, 9, 16, 25, 36, 49, 64, 81]\n",
      "['A', 'r', 'y', 'a', 'n']\n"
     ]
    }
   ],
   "source": [
    "#Q2-List Comprehension\n",
    "square_list=[i**2 for i in range(10)]\n",
    "list_of_letters=[i for i in \"Aryan\"]\n",
    "print(square_list)\n",
    "print(list_of_letters)"
   ]
  },
  {
   "cell_type": "code",
   "execution_count": 6,
   "metadata": {},
   "outputs": [
    {
     "name": "stdout",
     "output_type": "stream",
     "text": [
      "Input:\n",
      "8\n",
      "Output:\n",
      "{1: 1, 2: 4, 3: 9, 4: 16, 5: 25, 6: 36, 7: 49, 8: 64}\n"
     ]
    }
   ],
   "source": [
    "#Q3-Dictionary Formation\n",
    "print(\"Input:\")\n",
    "n=int(input())\n",
    "d={}\n",
    "print(\"Output:\")\n",
    "for i in range(1,n+1):\n",
    "    d[i]=i**2\n",
    "print(d)"
   ]
  },
  {
   "cell_type": "code",
   "execution_count": 8,
   "metadata": {},
   "outputs": [
    {
     "name": "stdout",
     "output_type": "stream",
     "text": [
      "Input:\n",
      "1\n",
      "UP 5\n",
      "DOWN 3\n",
      "LEFT 2\n",
      "RIGHT 2\n",
      "[0, 0]\n",
      "[0, 2]\n",
      "Output:\n",
      "2\n"
     ]
    }
   ],
   "source": [
    "o=[0,0]\n",
    "p=[0,0]\n",
    "print(\"Input:\")\n",
    "n=int(input())\n",
    "while n>0:\n",
    "    print(\"UP\",end=\" \")\n",
    "    up=int(input())\n",
    "    p[1]+=up\n",
    "    print(\"DOWN\",end=\" \")\n",
    "    down=int(input())\n",
    "    p[1]-=down\n",
    "    print(\"LEFT\",end=\" \")\n",
    "    left=int(input())\n",
    "    p[0]-=left\n",
    "    print(\"RIGHT\",end=\" \")\n",
    "    right=int(input())\n",
    "    p[0]+=right\n",
    "    n-=1\n",
    "dist=int(((p[0]**2)+(p[1]**2))**(1/2))\n",
    "print(\"Output:\")\n",
    "print(dist)\n",
    "\n",
    "    "
   ]
  },
  {
   "cell_type": "code",
   "execution_count": null,
   "metadata": {},
   "outputs": [],
   "source": []
  }
 ],
 "metadata": {
  "kernelspec": {
   "display_name": "Python 3",
   "language": "python",
   "name": "python3"
  },
  "language_info": {
   "codemirror_mode": {
    "name": "ipython",
    "version": 3
   },
   "file_extension": ".py",
   "mimetype": "text/x-python",
   "name": "python",
   "nbconvert_exporter": "python",
   "pygments_lexer": "ipython3",
   "version": "3.7.3"
  }
 },
 "nbformat": 4,
 "nbformat_minor": 2
}

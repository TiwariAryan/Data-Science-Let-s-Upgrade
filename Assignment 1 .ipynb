{
 "cells": [
  {
   "cell_type": "markdown",
   "metadata": {},
   "source": [
    "# Name: Aryan Tiwari \n",
    "# Assignment 1\n"
   ]
  },
  {
   "cell_type": "markdown",
   "metadata": {},
   "source": [
    "Question 1\n",
    "Answer: B) RAINBOW\n"
   ]
  },
  {
   "cell_type": "code",
   "execution_count": 1,
   "metadata": {},
   "outputs": [
    {
     "name": "stdout",
     "output_type": "stream",
     "text": [
      "LETS UPGRADE\n"
     ]
    }
   ],
   "source": [
    "#Question 2\n",
    "print(\"LETS UPGRADE\")"
   ]
  },
  {
   "cell_type": "code",
   "execution_count": 6,
   "metadata": {},
   "outputs": [
    {
     "name": "stdout",
     "output_type": "stream",
     "text": [
      "Enter cost price: 1000\n",
      "Enter selling price: 500\n",
      "Transaction is a Loss.\n"
     ]
    }
   ],
   "source": [
    "#Question 3\n",
    "cp=int(input(\"Enter cost price: \"))\n",
    "sp=int(input(\"Enter selling price: \"))\n",
    "if sp>cp:\n",
    "    print(\"Transaction is a Profit.\")\n",
    "elif sp<cp:\n",
    "    print(\"Transaction is a Loss.\")\n",
    "else:\n",
    "    print(\"Transaction is neither a Profit nor a Loss.\")"
   ]
  },
  {
   "cell_type": "code",
   "execution_count": 8,
   "metadata": {},
   "outputs": [
    {
     "name": "stdout",
     "output_type": "stream",
     "text": [
      "20\n",
      "30\n",
      "Profit\n"
     ]
    }
   ],
   "source": [
    "#Question 4\n",
    "cp=int(input())\n",
    "sp=int(input())\n",
    "if sp>cp:\n",
    "    print(\"Profit\")\n",
    "elif sp<cp:\n",
    "    print(\"Loss\")\n",
    "else:\n",
    "    print(\"Neither\")"
   ]
  },
  {
   "cell_type": "code",
   "execution_count": 9,
   "metadata": {},
   "outputs": [
    {
     "name": "stdout",
     "output_type": "stream",
     "text": [
      "20\n",
      "1600\n"
     ]
    }
   ],
   "source": [
    "#Question 5\n",
    "#As per sample test cases, 1 INR = 80 Euro\n",
    "rupee=int(input())\n",
    "print(rupee*80)"
   ]
  },
  {
   "cell_type": "code",
   "execution_count": 10,
   "metadata": {},
   "outputs": [
    {
     "name": "stdout",
     "output_type": "stream",
     "text": [
      "56\n",
      "0.7\n"
     ]
    }
   ],
   "source": [
    "#Question 5\n",
    "#As per question, 80 INR = 1 Euro\n",
    "rupee=int(input())\n",
    "print(rupee/80)"
   ]
  },
  {
   "cell_type": "code",
   "execution_count": null,
   "metadata": {},
   "outputs": [],
   "source": []
  }
 ],
 "metadata": {
  "kernelspec": {
   "display_name": "Python 3",
   "language": "python",
   "name": "python3"
  },
  "language_info": {
   "codemirror_mode": {
    "name": "ipython",
    "version": 3
   },
   "file_extension": ".py",
   "mimetype": "text/x-python",
   "name": "python",
   "nbconvert_exporter": "python",
   "pygments_lexer": "ipython3",
   "version": "3.7.3"
  }
 },
 "nbformat": 4,
 "nbformat_minor": 2
}

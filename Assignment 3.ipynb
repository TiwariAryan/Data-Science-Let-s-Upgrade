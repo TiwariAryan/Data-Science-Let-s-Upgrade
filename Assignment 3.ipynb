{
 "cells": [
  {
   "cell_type": "markdown",
   "metadata": {},
   "source": [
    "# Assignment 3\n",
    "# Aryan Tiwari"
   ]
  },
  {
   "cell_type": "code",
   "execution_count": 16,
   "metadata": {},
   "outputs": [
    {
     "name": "stdout",
     "output_type": "stream",
     "text": [
      "[ 2  5  8 11 14 17 20 23 26 29 32 35 38 41 44 47]\n"
     ]
    }
   ],
   "source": [
    "#Q1\n",
    "import numpy as np\n",
    "arr=np.arange(2,50,3)#Considering 50 Not included in the array\n",
    "print(arr)"
   ]
  },
  {
   "cell_type": "code",
   "execution_count": 10,
   "metadata": {},
   "outputs": [
    {
     "name": "stdout",
     "output_type": "stream",
     "text": [
      "For List 1: \n",
      "Enter an integer: 55\n",
      "Enter an integer: 77\n",
      "Enter an integer: 22\n",
      "Enter an integer: 88\n",
      "Enter an integer: 11\n",
      "For List 2: \n",
      "Enter an integer: 45\n",
      "Enter an integer: 25\n",
      "Enter an integer: 95\n",
      "Enter an integer: 35\n",
      "Enter an integer: 65\n",
      "[55, 77, 22, 88, 11] <class 'list'>\n",
      "[45, 25, 95, 35, 65] <class 'list'>\n",
      "[55 77 22 88 11] <class 'numpy.ndarray'>\n",
      "[45 25 95 35 65] <class 'numpy.ndarray'>\n",
      "Concatenated Array:  [55 77 22 88 11 45 25 95 35 65]\n",
      "1st Array Sorted:  [11 22 55 77 88]\n",
      "2nd Array Sorted:  [25 35 45 65 95]\n"
     ]
    }
   ],
   "source": [
    "#Q2\n",
    "import numpy as np\n",
    "a=[]\n",
    "b=[]\n",
    "print(\"For List 1: \")\n",
    "for i in range(5):\n",
    "    x=int(input(\"Enter an integer: \"))\n",
    "    a.append(x)\n",
    "print(\"For List 2: \")\n",
    "for i in range(5):\n",
    "    x=int(input(\"Enter an integer: \"))\n",
    "    b.append(x)\n",
    "print(a,type(a))\n",
    "print(b,type(b))\n",
    "a=np.array(a)\n",
    "b=np.array(b)\n",
    "print(a,type(a))\n",
    "print(b,type(b))\n",
    "print(\"Concatenated Array: \",np.concatenate((a,b)))\n",
    "a=np.sort(a)\n",
    "print(\"1st Array Sorted: \",a)\n",
    "b=np.sort(b)\n",
    "print(\"2nd Array Sorted: \",b)"
   ]
  },
  {
   "cell_type": "code",
   "execution_count": 13,
   "metadata": {},
   "outputs": [
    {
     "name": "stdout",
     "output_type": "stream",
     "text": [
      "[[1 2]\n",
      " [2 4]\n",
      " [5 7]]\n",
      "Length of Array:  3\n",
      "Dimension of Array:  (3, 2)\n"
     ]
    }
   ],
   "source": [
    "#Q3\n",
    "import numpy as np\n",
    "arr=np.array([[1,2],[2,4],[5,7]])\n",
    "print(arr)\n",
    "print(\"Length of Array: \",len(arr))\n",
    "print(\"Dimension of Array: \",arr.shape)"
   ]
  },
  {
   "cell_type": "code",
   "execution_count": 20,
   "metadata": {},
   "outputs": [
    {
     "name": "stdout",
     "output_type": "stream",
     "text": [
      "[ 0  1  2  3  4  5  6  7  8  9 10 11]\n",
      "(12,)\n",
      "[[ 0  1  2  3]\n",
      " [ 4  5  6  7]\n",
      " [ 8  9 10 11]]\n",
      "(3, 4)\n"
     ]
    }
   ],
   "source": [
    "#Q4\n",
    "import numpy as np\n",
    "#Method 1 - Using reshape\n",
    "arr=np.arange(12)\n",
    "print(arr)\n",
    "print(arr.shape)\n",
    "arr=arr.reshape(3,4)\n",
    "print(arr)\n",
    "print(arr.shape)"
   ]
  },
  {
   "cell_type": "code",
   "execution_count": 28,
   "metadata": {},
   "outputs": [
    {
     "name": "stdout",
     "output_type": "stream",
     "text": [
      "[ 0  1  2  3  4  5  6  7  8  9 10 11]\n",
      "(12,)\n",
      "\n",
      "[[ 0  1  2  3  4  5  6  7  8  9 10 11]]\n",
      "(1, 12)\n",
      "\n",
      "[[ 0]\n",
      " [ 1]\n",
      " [ 2]\n",
      " [ 3]\n",
      " [ 4]\n",
      " [ 5]\n",
      " [ 6]\n",
      " [ 7]\n",
      " [ 8]\n",
      " [ 9]\n",
      " [10]\n",
      " [11]]\n",
      "(12, 1)\n"
     ]
    }
   ],
   "source": [
    "#Q4\n",
    "import numpy as np\n",
    "#Method 2 - Using np.newaxis\n",
    "arr=np.arange(12)\n",
    "print(arr)\n",
    "print(arr.shape)\n",
    "print()\n",
    "arr1=arr[np.newaxis,:]\n",
    "print(arr1)\n",
    "print(arr1.shape)\n",
    "print()\n",
    "arr2=arr[:,np.newaxis]\n",
    "print(arr2)\n",
    "print(arr2.shape)\n"
   ]
  },
  {
   "cell_type": "code",
   "execution_count": 32,
   "metadata": {},
   "outputs": [
    {
     "name": "stdout",
     "output_type": "stream",
     "text": [
      "[ 0  1  2  3  4  5  6  7  8  9 10 11]\n",
      "(12,)\n",
      "\n",
      "[[ 0  1  2  3  4  5  6  7  8  9 10 11]]\n",
      "(1, 12)\n",
      "\n",
      "[[ 0]\n",
      " [ 1]\n",
      " [ 2]\n",
      " [ 3]\n",
      " [ 4]\n",
      " [ 5]\n",
      " [ 6]\n",
      " [ 7]\n",
      " [ 8]\n",
      " [ 9]\n",
      " [10]\n",
      " [11]]\n",
      "(12, 1)\n"
     ]
    }
   ],
   "source": [
    "#Q4\n",
    "import numpy as np\n",
    "#Method 2 - Using np.expand_dims\n",
    "arr=np.arange(12)\n",
    "print(arr)\n",
    "print(arr.shape)\n",
    "print()\n",
    "arr1=np.expand_dims(arr, axis = 0) \n",
    "print(arr1)\n",
    "print(arr1.shape)\n",
    "print()\n",
    "arr2=np.expand_dims(arr, axis = 1) \n",
    "print(arr2)\n",
    "print(arr2.shape)\n"
   ]
  },
  {
   "cell_type": "code",
   "execution_count": 10,
   "metadata": {},
   "outputs": [
    {
     "name": "stdout",
     "output_type": "stream",
     "text": [
      "[[0 1 2]\n",
      " [3 4 5]\n",
      " [6 7 8]]\n",
      "[[1. 1. 1.]\n",
      " [1. 1. 1.]\n",
      " [1. 1. 1.]]\n",
      "\n",
      "Vertically stacked: \n",
      " [[0. 1. 2.]\n",
      " [3. 4. 5.]\n",
      " [6. 7. 8.]\n",
      " [1. 1. 1.]\n",
      " [1. 1. 1.]\n",
      " [1. 1. 1.]]\n",
      "\n",
      "Horizontally stacked: \n",
      " [[0. 1. 2. 1. 1. 1.]\n",
      " [3. 4. 5. 1. 1. 1.]\n",
      " [6. 7. 8. 1. 1. 1.]]\n"
     ]
    }
   ],
   "source": [
    "#Q5\n",
    "import numpy as np\n",
    "a=np.arange(9).reshape(3,3)\n",
    "b=np.ones(9).reshape(3,3)\n",
    "print(a)\n",
    "print(b)\n",
    "print()\n",
    "c=np.vstack((a,b))\n",
    "print(\"Vertically stacked: \\n\",c)\n",
    "print()\n",
    "d=np.hstack((a,b))\n",
    "print(\"Horizontally stacked: \\n\",d)"
   ]
  },
  {
   "cell_type": "code",
   "execution_count": 16,
   "metadata": {},
   "outputs": [
    {
     "name": "stdout",
     "output_type": "stream",
     "text": [
      "[[ 1  2  3  4]\n",
      " [ 4  3  5  6]\n",
      " [ 4  5  6  7]\n",
      " [ 7  8  8  9]\n",
      " [ 4 10 11 12]]\n",
      "\n",
      "Unique Element:  1\n",
      "Element Count in Array:  1\n",
      "\n",
      "Unique Element:  2\n",
      "Element Count in Array:  1\n",
      "\n",
      "Unique Element:  3\n",
      "Element Count in Array:  2\n",
      "\n",
      "Unique Element:  4\n",
      "Element Count in Array:  4\n",
      "\n",
      "Unique Element:  5\n",
      "Element Count in Array:  2\n",
      "\n",
      "Unique Element:  6\n",
      "Element Count in Array:  2\n",
      "\n",
      "Unique Element:  7\n",
      "Element Count in Array:  2\n",
      "\n",
      "Unique Element:  8\n",
      "Element Count in Array:  2\n",
      "\n",
      "Unique Element:  9\n",
      "Element Count in Array:  1\n",
      "\n",
      "Unique Element:  10\n",
      "Element Count in Array:  1\n",
      "\n",
      "Unique Element:  11\n",
      "Element Count in Array:  1\n",
      "\n",
      "Unique Element:  12\n",
      "Element Count in Array:  1\n",
      "\n"
     ]
    }
   ],
   "source": [
    "#Q6\n",
    "import numpy as np\n",
    "arr=np.array([[1,2,3,4],[4,3,5,6],[4,5,6,7],[7,8,8,9],[4,10,11,12]])\n",
    "print(arr)\n",
    "unique,count=np.unique(arr,return_counts=True)\n",
    "print()\n",
    "for i in range(len(unique)):\n",
    "    print(\"Unique Element: \",unique[i])\n",
    "    print(\"Element Count in Array: \",count[i])\n",
    "    print()"
   ]
  },
  {
   "cell_type": "code",
   "execution_count": null,
   "metadata": {},
   "outputs": [],
   "source": []
  }
 ],
 "metadata": {
  "kernelspec": {
   "display_name": "Python 3",
   "language": "python",
   "name": "python3"
  },
  "language_info": {
   "codemirror_mode": {
    "name": "ipython",
    "version": 3
   },
   "file_extension": ".py",
   "mimetype": "text/x-python",
   "name": "python",
   "nbconvert_exporter": "python",
   "pygments_lexer": "ipython3",
   "version": "3.7.3"
  }
 },
 "nbformat": 4,
 "nbformat_minor": 2
}
